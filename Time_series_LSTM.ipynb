{
 "cells": [
  {
   "cell_type": "code",
   "execution_count": 1,
   "id": "ac8293e3",
   "metadata": {},
   "outputs": [],
   "source": [
    "import pandas as pd\n",
    "import numpy as np\n",
    "import matplotlib.pyplot as plt\n",
    "%matplotlib inline\n",
    "import warnings\n",
    "warnings.filterwarnings('ignore')\n",
    "import tensorflow as tf\n",
    "from tensorflow.keras.preprocessing.sequence import TimeseriesGenerator\n",
    "from tensorflow.keras.models import Sequential\n",
    "from tensorflow.keras.layers import Dense\n",
    "from tensorflow.keras.layers import LSTM\n",
    "from sklearn.preprocessing import MinMaxScaler"
   ]
  },
  {
   "cell_type": "code",
   "execution_count": 2,
   "id": "e45fdb0c",
   "metadata": {},
   "outputs": [],
   "source": [
    "df=pd.read_csv(r\"C:\\Users\\91623\\Downloads\\AirPassengers.csv\",index_col='Month')"
   ]
  },
  {
   "cell_type": "code",
   "execution_count": 3,
   "id": "b82fe0b9",
   "metadata": {},
   "outputs": [
    {
     "data": {
      "text/html": [
       "<div>\n",
       "<style scoped>\n",
       "    .dataframe tbody tr th:only-of-type {\n",
       "        vertical-align: middle;\n",
       "    }\n",
       "\n",
       "    .dataframe tbody tr th {\n",
       "        vertical-align: top;\n",
       "    }\n",
       "\n",
       "    .dataframe thead th {\n",
       "        text-align: right;\n",
       "    }\n",
       "</style>\n",
       "<table border=\"1\" class=\"dataframe\">\n",
       "  <thead>\n",
       "    <tr style=\"text-align: right;\">\n",
       "      <th></th>\n",
       "      <th>#Passengers</th>\n",
       "    </tr>\n",
       "    <tr>\n",
       "      <th>Month</th>\n",
       "      <th></th>\n",
       "    </tr>\n",
       "  </thead>\n",
       "  <tbody>\n",
       "    <tr>\n",
       "      <th>1949-01</th>\n",
       "      <td>112</td>\n",
       "    </tr>\n",
       "    <tr>\n",
       "      <th>1949-02</th>\n",
       "      <td>118</td>\n",
       "    </tr>\n",
       "    <tr>\n",
       "      <th>1949-03</th>\n",
       "      <td>132</td>\n",
       "    </tr>\n",
       "    <tr>\n",
       "      <th>1949-04</th>\n",
       "      <td>129</td>\n",
       "    </tr>\n",
       "    <tr>\n",
       "      <th>1949-05</th>\n",
       "      <td>121</td>\n",
       "    </tr>\n",
       "    <tr>\n",
       "      <th>...</th>\n",
       "      <td>...</td>\n",
       "    </tr>\n",
       "    <tr>\n",
       "      <th>1960-08</th>\n",
       "      <td>606</td>\n",
       "    </tr>\n",
       "    <tr>\n",
       "      <th>1960-09</th>\n",
       "      <td>508</td>\n",
       "    </tr>\n",
       "    <tr>\n",
       "      <th>1960-10</th>\n",
       "      <td>461</td>\n",
       "    </tr>\n",
       "    <tr>\n",
       "      <th>1960-11</th>\n",
       "      <td>390</td>\n",
       "    </tr>\n",
       "    <tr>\n",
       "      <th>1960-12</th>\n",
       "      <td>432</td>\n",
       "    </tr>\n",
       "  </tbody>\n",
       "</table>\n",
       "<p>144 rows × 1 columns</p>\n",
       "</div>"
      ],
      "text/plain": [
       "         #Passengers\n",
       "Month               \n",
       "1949-01          112\n",
       "1949-02          118\n",
       "1949-03          132\n",
       "1949-04          129\n",
       "1949-05          121\n",
       "...              ...\n",
       "1960-08          606\n",
       "1960-09          508\n",
       "1960-10          461\n",
       "1960-11          390\n",
       "1960-12          432\n",
       "\n",
       "[144 rows x 1 columns]"
      ]
     },
     "execution_count": 3,
     "metadata": {},
     "output_type": "execute_result"
    }
   ],
   "source": [
    "df"
   ]
  },
  {
   "cell_type": "code",
   "execution_count": 4,
   "id": "a0e1eabb",
   "metadata": {},
   "outputs": [
    {
     "name": "stdout",
     "output_type": "stream",
     "text": [
      "<class 'pandas.core.frame.DataFrame'>\n",
      "Index: 144 entries, 1949-01 to 1960-12\n",
      "Data columns (total 1 columns):\n",
      " #   Column       Non-Null Count  Dtype\n",
      "---  ------       --------------  -----\n",
      " 0   #Passengers  144 non-null    int64\n",
      "dtypes: int64(1)\n",
      "memory usage: 2.2+ KB\n"
     ]
    }
   ],
   "source": [
    "df.info()"
   ]
  },
  {
   "cell_type": "code",
   "execution_count": 5,
   "id": "6ea518a8",
   "metadata": {},
   "outputs": [],
   "source": [
    "train=df[:132]\n",
    "test=df[132:]\n"
   ]
  },
  {
   "cell_type": "code",
   "execution_count": 6,
   "id": "5d8e74f4",
   "metadata": {},
   "outputs": [],
   "source": [
    "from sklearn.preprocessing import MinMaxScaler\n",
    "scaler= MinMaxScaler()\n",
    "scaled_train=scaler.fit_transform(train)\n",
    "scaled_test=scaler.transform(test)"
   ]
  },
  {
   "cell_type": "code",
   "execution_count": 7,
   "id": "e35ab335",
   "metadata": {},
   "outputs": [],
   "source": [
    "n_input=12\n",
    "n_features=1"
   ]
  },
  {
   "cell_type": "code",
   "execution_count": 8,
   "id": "16ee34ab",
   "metadata": {},
   "outputs": [],
   "source": [
    "train_generator=TimeseriesGenerator(scaled_train,\n",
    "                                     scaled_train,\n",
    "                                      n_input,\n",
    "                                      batch_size=1)"
   ]
  },
  {
   "cell_type": "code",
   "execution_count": 9,
   "id": "657721f1",
   "metadata": {},
   "outputs": [],
   "source": [
    "model=Sequential()\n",
    "model.add(LSTM(100,activation='relu',input_shape=(n_input,n_features),return_sequences=True))\n",
    "model.add(LSTM(50,activation='relu',return_sequences=True))\n",
    "model.add(LSTM(10,activation='relu'))\n",
    "model.add(Dense(1))"
   ]
  },
  {
   "cell_type": "code",
   "execution_count": 10,
   "id": "5b84e542",
   "metadata": {},
   "outputs": [
    {
     "name": "stdout",
     "output_type": "stream",
     "text": [
      "Model: \"sequential\"\n",
      "_________________________________________________________________\n",
      " Layer (type)                Output Shape              Param #   \n",
      "=================================================================\n",
      " lstm (LSTM)                 (None, 12, 100)           40800     \n",
      "                                                                 \n",
      " lstm_1 (LSTM)               (None, 12, 50)            30200     \n",
      "                                                                 \n",
      " lstm_2 (LSTM)               (None, 10)                2440      \n",
      "                                                                 \n",
      " dense (Dense)               (None, 1)                 11        \n",
      "                                                                 \n",
      "=================================================================\n",
      "Total params: 73,451\n",
      "Trainable params: 73,451\n",
      "Non-trainable params: 0\n",
      "_________________________________________________________________\n"
     ]
    }
   ],
   "source": [
    "model.compile(optimizer='adam',loss='mse')\n",
    "model.summary()"
   ]
  },
  {
   "cell_type": "code",
   "execution_count": 11,
   "id": "abd0f62c",
   "metadata": {},
   "outputs": [
    {
     "name": "stdout",
     "output_type": "stream",
     "text": [
      "Epoch 1/30\n",
      "120/120 [==============================] - 19s 25ms/step - loss: 0.0350\n",
      "Epoch 2/30\n",
      "120/120 [==============================] - 3s 21ms/step - loss: 0.0150\n",
      "Epoch 3/30\n",
      "120/120 [==============================] - 3s 26ms/step - loss: 0.0099\n",
      "Epoch 4/30\n",
      "120/120 [==============================] - 3s 24ms/step - loss: 0.0132\n",
      "Epoch 5/30\n",
      "120/120 [==============================] - 3s 22ms/step - loss: 0.0094\n",
      "Epoch 6/30\n",
      "120/120 [==============================] - 3s 21ms/step - loss: 0.0103\n",
      "Epoch 7/30\n",
      "120/120 [==============================] - 2s 19ms/step - loss: 0.0102\n",
      "Epoch 8/30\n",
      "120/120 [==============================] - 2s 16ms/step - loss: 0.0078\n",
      "Epoch 9/30\n",
      "120/120 [==============================] - 3s 23ms/step - loss: 0.0074\n",
      "Epoch 10/30\n",
      "120/120 [==============================] - 2s 20ms/step - loss: 0.0084\n",
      "Epoch 11/30\n",
      "120/120 [==============================] - 2s 20ms/step - loss: 0.0075\n",
      "Epoch 12/30\n",
      "120/120 [==============================] - 2s 19ms/step - loss: 0.0050\n",
      "Epoch 13/30\n",
      "120/120 [==============================] - 2s 20ms/step - loss: 0.0054\n",
      "Epoch 14/30\n",
      "120/120 [==============================] - 2s 16ms/step - loss: 0.0046\n",
      "Epoch 15/30\n",
      "120/120 [==============================] - 2s 14ms/step - loss: 0.0045\n",
      "Epoch 16/30\n",
      "120/120 [==============================] - 2s 16ms/step - loss: 0.0041\n",
      "Epoch 17/30\n",
      "120/120 [==============================] - 2s 15ms/step - loss: 0.0041\n",
      "Epoch 18/30\n",
      "120/120 [==============================] - 2s 16ms/step - loss: 0.0040\n",
      "Epoch 19/30\n",
      "120/120 [==============================] - 2s 20ms/step - loss: 0.0047\n",
      "Epoch 20/30\n",
      "120/120 [==============================] - 2s 17ms/step - loss: 0.0034\n",
      "Epoch 21/30\n",
      "120/120 [==============================] - 2s 18ms/step - loss: 0.0030\n",
      "Epoch 22/30\n",
      "120/120 [==============================] - 2s 17ms/step - loss: 0.0028\n",
      "Epoch 23/30\n",
      "120/120 [==============================] - 2s 20ms/step - loss: 0.0040\n",
      "Epoch 24/30\n",
      "120/120 [==============================] - 2s 17ms/step - loss: 0.0035\n",
      "Epoch 25/30\n",
      "120/120 [==============================] - 2s 18ms/step - loss: 0.0028\n",
      "Epoch 26/30\n",
      "120/120 [==============================] - 2s 19ms/step - loss: 0.0029\n",
      "Epoch 27/30\n",
      "120/120 [==============================] - 2s 18ms/step - loss: 0.0034\n",
      "Epoch 28/30\n",
      "120/120 [==============================] - 2s 16ms/step - loss: 0.0021\n",
      "Epoch 29/30\n",
      "120/120 [==============================] - 2s 17ms/step - loss: 0.0030\n",
      "Epoch 30/30\n",
      "120/120 [==============================] - 2s 17ms/step - loss: 0.0023\n"
     ]
    },
    {
     "data": {
      "text/plain": [
       "<keras.callbacks.History at 0x261f51d2fa0>"
      ]
     },
     "execution_count": 11,
     "metadata": {},
     "output_type": "execute_result"
    }
   ],
   "source": [
    "model.fit(train_generator,epochs=30)"
   ]
  },
  {
   "cell_type": "code",
   "execution_count": 13,
   "id": "e3ef7b9e",
   "metadata": {},
   "outputs": [
    {
     "name": "stdout",
     "output_type": "stream",
     "text": [
      "1/1 [==============================] - 0s 28ms/step\n",
      "1/1 [==============================] - 0s 26ms/step\n",
      "1/1 [==============================] - 0s 48ms/step\n",
      "1/1 [==============================] - 0s 31ms/step\n",
      "1/1 [==============================] - 0s 32ms/step\n",
      "1/1 [==============================] - 0s 24ms/step\n",
      "1/1 [==============================] - 0s 21ms/step\n",
      "1/1 [==============================] - 0s 31ms/step\n",
      "1/1 [==============================] - 0s 24ms/step\n",
      "1/1 [==============================] - 0s 33ms/step\n",
      "1/1 [==============================] - 0s 31ms/step\n",
      "1/1 [==============================] - 0s 41ms/step\n"
     ]
    }
   ],
   "source": [
    "test_predictions = []\n",
    "first_eval_batch = scaled_train[-n_input:]\n",
    "current_batch = first_eval_batch.reshape((1, n_input, n_features))\n",
    "for i in range(len(test)):\n",
    "    pred = model.predict(current_batch)[0]\n",
    "    test_predictions.append(pred)\n",
    "    current_batch = np.append(current_batch[:,1:,:],[[pred]],axis=1)"
   ]
  },
  {
   "cell_type": "code",
   "execution_count": 14,
   "id": "49e6af4c",
   "metadata": {},
   "outputs": [
    {
     "data": {
      "text/plain": [
       "[array([0.5500329], dtype=float32),\n",
       " array([0.5620776], dtype=float32),\n",
       " array([0.65823776], dtype=float32),\n",
       " array([0.6585381], dtype=float32),\n",
       " array([0.76478815], dtype=float32),\n",
       " array([0.943348], dtype=float32),\n",
       " array([1.0543703], dtype=float32),\n",
       " array([1.0000694], dtype=float32),\n",
       " array([0.8010575], dtype=float32),\n",
       " array([0.66137767], dtype=float32),\n",
       " array([0.6060817], dtype=float32),\n",
       " array([0.6457687], dtype=float32)]"
      ]
     },
     "execution_count": 14,
     "metadata": {},
     "output_type": "execute_result"
    }
   ],
   "source": [
    "test_predictions"
   ]
  },
  {
   "cell_type": "code",
   "execution_count": 15,
   "id": "56d371c0",
   "metadata": {},
   "outputs": [
    {
     "data": {
      "text/plain": [
       "array([[354.26497573],\n",
       "       [359.74529976],\n",
       "       [403.49817866],\n",
       "       [403.63483691],\n",
       "       [451.97860861],\n",
       "       [533.22333568],\n",
       "       [583.73847926],\n",
       "       [559.03156781],\n",
       "       [468.48117048],\n",
       "       [404.92683911],\n",
       "       [379.7671845 ],\n",
       "       [397.82475942]])"
      ]
     },
     "execution_count": 15,
     "metadata": {},
     "output_type": "execute_result"
    }
   ],
   "source": [
    "actual_predictions = scaler.inverse_transform(test_predictions)\n",
    "actual_predictions"
   ]
  },
  {
   "cell_type": "code",
   "execution_count": 16,
   "id": "179689c6",
   "metadata": {},
   "outputs": [
    {
     "data": {
      "image/png": "[encoded data removed]",
      "text/plain": [
       "<Figure size 864x576 with 1 Axes>"
      ]
     },
     "metadata": {
      "needs_background": "light"
     },
     "output_type": "display_data"
    }
   ],
   "source": [
    "test['Predictions'] = actual_predictions\n",
    "test.plot(figsize=(12,8));"
   ]
  },
  {
   "cell_type": "markdown",
   "id": "76849421",
   "metadata": {},
   "source": [
    "https://github.com/nachi-hebbar/Time-Series-Forecasting-LSTM/blob/main/RNN_Youtube.ipynb"
   ]
  },
  {
   "cell_type": "code",
   "execution_count": null,
   "id": "b55cab57",
   "metadata": {},
   "outputs": [],
   "source": []
  }
 ],
 "metadata": {
  "kernelspec": {
   "display_name": "Python 3 (ipykernel)",
   "language": "python",
   "name": "python3"
  },
  "language_info": {
   "codemirror_mode": {
    "name": "ipython",
    "version": 3
   },
   "file_extension": ".py",
   "mimetype": "text/x-python",
   "name": "python",
   "nbconvert_exporter": "python",
   "pygments_lexer": "ipython3",
   "version": "3.9.7"
  }
 },
 "nbformat": 4,
 "nbformat_minor": 5
}
